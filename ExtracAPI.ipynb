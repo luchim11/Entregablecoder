{
 "cells": [
  {
   "cell_type": "markdown",
   "metadata": {},
   "source": [
    "Obtengo los datos de la API y los visualizo con PANDAS"
   ]
  },
  {
   "cell_type": "code",
   "execution_count": null,
   "metadata": {},
   "outputs": [],
   "source": [
    "import requests\n",
    "\n",
    "import pandas as pd\n",
    "from datetime import date\n",
    "\n",
    "import psycopg2\n",
    "from dotenv import load_dotenv\n",
    "import os \n",
    "\n",
    "from psycopg2.extras import execute_values\n",
    "\n",
    "url = \"https://api.coinlore.net/api/tickers/?start=0&limit=100\"\n",
    "response = requests.get(url)\n",
    "datos= response.json()\n",
    "\n",
    "\n",
    "\n",
    "df=pd.DataFrame.from_dict(datos['data']).reset_index().rename(columns={\"index\":'indice'})\n",
    "df\n"
   ]
  },
  {
   "cell_type": "markdown",
   "metadata": {},
   "source": [
    "Aplico un filtro de los datos que me interesan y les agrego la hora de Extaccion "
   ]
  },
  {
   "cell_type": "code",
   "execution_count": null,
   "metadata": {},
   "outputs": [],
   "source": [
    "\n",
    "dfFiltrado= df.loc[0:15,['indice','id','symbol','name','rank','price_usd','percent_change_24h','percent_change_1h','market_cap_usd']]\n",
    "\n",
    "hora_actual = pd.to_datetime('now')\n",
    "hora_formateada = hora_actual.strftime(\"%H:%M:%S\")\n",
    "\n",
    "dfFiltrado =dfFiltrado.assign(Hora=hora_formateada)\n",
    "\n"
   ]
  },
  {
   "cell_type": "markdown",
   "metadata": {},
   "source": [
    "Cambio los tipos de datos"
   ]
  },
  {
   "cell_type": "code",
   "execution_count": null,
   "metadata": {},
   "outputs": [],
   "source": [
    "\n",
    "#Lo convierto en float y despues los paso a int porque no me deja pasarlo directamente\n",
    "dfFiltrado[\"price_usd\"]= dfFiltrado[\"price_usd\"].astype(\"float64\")\n",
    "#dfFiltrado[\"price_usd\"]= dfFiltrado[\"price_usd\"].astype(\"int\")\n",
    "\n",
    "dfFiltrado[\"percent_change_24h\"]= dfFiltrado[\"percent_change_24h\"].astype(\"float64\")\n",
    "#dfFiltrado[\"percent_change_24h\"]= dfFiltrado[\"percent_change_24h\"].astype(\"int\")\n",
    "\n",
    "dfFiltrado[\"percent_change_1h\"]= dfFiltrado[\"percent_change_1h\"].astype(\"float64\")\n",
    "#dfFiltrado[\"percent_change_1h\"]= dfFiltrado[\"percent_change_1h\"].astype(\"int\")\n",
    "\n",
    "dfFiltrado[\"market_cap_usd\"]= dfFiltrado[\"market_cap_usd\"].astype(\"float64\")\n",
    "#dfFiltrado[\"market_cap_usd\"]= dfFiltrado[\"market_cap_usd\"].astype(\"int\")\n",
    "#dfFiltrado[\"Year\"]= dfFiltrado[\"Year\"].astype(\"float64\")"
   ]
  },
  {
   "cell_type": "markdown",
   "metadata": {},
   "source": [
    "Conexion con Amazon redshift"
   ]
  },
  {
   "cell_type": "code",
   "execution_count": 6,
   "metadata": {},
   "outputs": [
    {
     "name": "stdout",
     "output_type": "stream",
     "text": [
      "Conectado a Postgres\n"
     ]
    }
   ],
   "source": [
    "#Prueba de conexion\n",
    "\n",
    "\n",
    "load_dotenv()\n",
    "\n",
    "url = os.getenv('url-sql')\n",
    "data_base= os.getenv('data_base')\n",
    "user=os.getenv('user')\n",
    "pwd=os.getenv('pwd')\n",
    "\n",
    "try:\n",
    "    conn = psycopg2.connect(\n",
    "        host=url,\n",
    "        dbname=data_base,\n",
    "        user=user,\n",
    "        password=pwd,\n",
    "        port='5439'\n",
    "    )\n",
    "    print(\"Conectado a Postgres\")\n",
    "    \n",
    "except Exception as e:\n",
    "    print(\"No es posible conectarse a Postgres\")\n",
    "    print(e)"
   ]
  },
  {
   "cell_type": "markdown",
   "metadata": {},
   "source": [
    "Creacion de tabla en redshift"
   ]
  },
  {
   "cell_type": "code",
   "execution_count": null,
   "metadata": {},
   "outputs": [],
   "source": [
    "\n",
    "def cargar_en_postgres(conn, table_name, dataframe):\n",
    "    dtypes= dataframe.dtypes\n",
    "    cols= list(dtypes.index )\n",
    "    tipos= list(dtypes.values)\n",
    "    type_map = {'int64': 'INT','int32': 'INT','float64': 'FLOAT','object': 'VARCHAR(50)','bool':'BOOLEAN'}\n",
    "    sql_dtypes = [type_map[str(dtypes)] for dtypes in tipos]\n",
    "    # Definir formato SQL VARIABLE TIPO_DATO\n",
    "    column_defs = [f\"{name} {data_type}\" for name, data_type in zip(cols, sql_dtypes)]\n",
    "    # Combine column definitions into the CREATE TABLE statement\n",
    "    table_schema = f\"\"\"\n",
    "        CREATE TABLE IF NOT EXISTS {table_name} (\n",
    "            {', '.join(column_defs)}\n",
    "        );\n",
    "        \"\"\"\n",
    "    # Crear la tabla\n",
    "    cur = conn.cursor()\n",
    "    cur.execute(table_schema)\n",
    "    # Generar los valores a insertar\n",
    "    values = [tuple(x) for x in dataframe.to_numpy()]\n",
    "    # Definir el INSERT\n",
    "    insert_sql = f\"INSERT INTO {table_name} ({', '.join(cols)}) VALUES %s\"\n",
    "    # Execute the transaction to insert the data\n",
    "    cur.execute(\"BEGIN\")\n",
    "    execute_values(cur, insert_sql, values)\n",
    "    cur.execute(\"COMMIT\")\n",
    "    print('Proceso terminado')"
   ]
  },
  {
   "cell_type": "code",
   "execution_count": null,
   "metadata": {},
   "outputs": [],
   "source": [
    "cargar_en_postgres(conn=conn, table_name= \"ValoresCryptos\", dataframe=dfFiltrado)"
   ]
  }
 ],
 "metadata": {
  "kernelspec": {
   "display_name": "Python 3",
   "language": "python",
   "name": "python3"
  },
  "language_info": {
   "codemirror_mode": {
    "name": "ipython",
    "version": 3
   },
   "file_extension": ".py",
   "mimetype": "text/x-python",
   "name": "python",
   "nbconvert_exporter": "python",
   "pygments_lexer": "ipython3",
   "version": "3.12.0"
  }
 },
 "nbformat": 4,
 "nbformat_minor": 2
}
